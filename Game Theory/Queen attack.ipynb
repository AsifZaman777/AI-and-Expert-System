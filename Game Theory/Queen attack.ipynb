{
 "cells": [
  {
   "cell_type": "code",
   "execution_count": 1,
   "id": "89a7f7f3",
   "metadata": {},
   "outputs": [
    {
     "name": "stdout",
     "output_type": "stream",
     "text": [
      "6\n",
      "[0, 1, 0, 0, 0, 0]\n",
      "[0, 0, 0, 1, 0, 0]\n",
      "[0, 0, 0, 0, 0, 1]\n",
      "[1, 0, 0, 0, 0, 0]\n",
      "[0, 0, 1, 0, 0, 0]\n",
      "[0, 0, 0, 0, 1, 0]\n"
     ]
    }
   ],
   "source": [
    "numberOfQueens=int(input())\n",
    "\n",
    "board=[[0]*numberOfQueens for _ in range(numberOfQueens)]\n",
    "\n",
    "def attack(i,j):\n",
    "    for k in range(0,numberOfQueens):\n",
    "            if board[i][k]==1 or board[k][j]==1:\n",
    "                return True\n",
    "    for k in range(0,numberOfQueens):\n",
    "        for l in range(0,numberOfQueens):\n",
    "            if k+l==i+j or k-l==i-j:\n",
    "                if board[k][l]==1:\n",
    "                    return True\n",
    "\n",
    "    return False\n",
    "\n",
    "def queen(n):\n",
    "    if n==0:\n",
    "        return True\n",
    "    for i in range(0,numberOfQueens):\n",
    "        for j in range(0,numberOfQueens):\n",
    "            if not attack(i,j) and board[i][j]!=1:\n",
    "                board[i][j]=1\n",
    "                if queen(n-1)==True:\n",
    "                    return True\n",
    "\n",
    "                board[i][j]=0\n",
    "    return False\n",
    "\n",
    "\n",
    "queen(numberOfQueens)\n",
    "for i in board:\n",
    "    print(i)\n",
    "\n",
    "\n",
    "\n",
    "\n"
   ]
  },
  {
   "cell_type": "code",
   "execution_count": null,
   "id": "be27895b",
   "metadata": {},
   "outputs": [],
   "source": []
  }
 ],
 "metadata": {
  "kernelspec": {
   "display_name": "Python 3",
   "language": "python",
   "name": "python3"
  },
  "language_info": {
   "codemirror_mode": {
    "name": "ipython",
    "version": 3
   },
   "file_extension": ".py",
   "mimetype": "text/x-python",
   "name": "python",
   "nbconvert_exporter": "python",
   "pygments_lexer": "ipython3",
   "version": "3.8.8"
  }
 },
 "nbformat": 4,
 "nbformat_minor": 5
}
