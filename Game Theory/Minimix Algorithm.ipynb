{
 "cells": [
  {
   "cell_type": "code",
   "execution_count": 1,
   "id": "fee89aa9",
   "metadata": {},
   "outputs": [
    {
     "name": "stdout",
     "output_type": "stream",
     "text": [
      "Please enter the minimum value: 1\n",
      "Please enter the maximum value: 2\n",
      "Please enter the value number: 3\n",
      "Please enter the 1 no element: 4\n",
      "Please enter the 2 no element: 5\n",
      "Please enter the 3 no element: 6\n",
      "Values = [4, 5, 6]\n",
      "The optimal value is: 2.\n"
     ]
    }
   ],
   "source": [
    "def minimax(depth, node, maxPlayer, numbers, alpha, beta):\n",
    "    if depth == 3:\n",
    "        return numbers[node]\n",
    "\n",
    "    if maxPlayer == True:\n",
    "        optimum_res = Minimum\n",
    "        for i in range(2):\n",
    "            value = minimax(depth + 1, node * 2 + i, False, numbers, alpha, beta)\n",
    "            optimum_res = max(optimum_res, value)\n",
    "            alpha = max(alpha, optimum_res)\n",
    "\n",
    "            if beta <= alpha:\n",
    "                break\n",
    "        return optimum_res\n",
    "\n",
    "    else:\n",
    "        optimum_res = Maximum\n",
    "        for i in range(2):\n",
    "            value = minimax(depth + 1, node * 2 + i, True, numbers, alpha, beta)\n",
    "            optimum_res = min(optimum_res, value)\n",
    "            alpha = min(alpha, optimum_res)\n",
    "\n",
    "            if beta <= alpha:\n",
    "                break\n",
    "        return optimum_res\n",
    "\n",
    "Min = int(input('Please enter the minimum value: '))\n",
    "Max = int(input('Please enter the maximum value: '))\n",
    "Minimum, Maximum = Min, Max\n",
    "if __name__ == '__main__':\n",
    "  #numbers = [3, 5, 6, 9, 1, 2, 0, -1]\n",
    "  numbers = []\n",
    "  valN = int(input('Please enter the value number: '))\n",
    "  for i in range(valN):\n",
    "    x = int(input('Please enter the {} no element: '.format(i+1)))\n",
    "    numbers.append(x)\n",
    "  print('Values = {}'.format(numbers))\n",
    "  print('The optimal value is: {}.'.format(minimax(0, 0, True, numbers, Minimum, Maximum)))\n",
    "    "
   ]
  },
  {
   "cell_type": "code",
   "execution_count": null,
   "id": "9a789bb9",
   "metadata": {},
   "outputs": [],
   "source": []
  }
 ],
 "metadata": {
  "kernelspec": {
   "display_name": "Python 3",
   "language": "python",
   "name": "python3"
  },
  "language_info": {
   "codemirror_mode": {
    "name": "ipython",
    "version": 3
   },
   "file_extension": ".py",
   "mimetype": "text/x-python",
   "name": "python",
   "nbconvert_exporter": "python",
   "pygments_lexer": "ipython3",
   "version": "3.8.8"
  }
 },
 "nbformat": 4,
 "nbformat_minor": 5
}
