{
 "cells": [
  {
   "cell_type": "code",
   "execution_count": 10,
   "id": "c3386221",
   "metadata": {},
   "outputs": [
    {
     "name": "stdout",
     "output_type": "stream",
     "text": [
      "Path found:  ['S', 'A', 'C', 'G']\n"
     ]
    },
    {
     "data": {
      "text/plain": [
       "['S', 'A', 'C', 'G']"
      ]
     },
     "execution_count": 10,
     "metadata": {},
     "output_type": "execute_result"
    }
   ],
   "source": [
    "problem = {\n",
    "\n",
    "        'S': [('A', 2), ('B', 1)],\n",
    "\n",
    "        'A': [('C', 2), ('D', 3)],\n",
    "\n",
    "        'B': [('D', 4), ('E', 4)],\n",
    "\n",
    "        'C': [('G', 4)],\n",
    "\n",
    "        'D': [('G', 4)],\n",
    "\n",
    "        'E': [],\n",
    "\n",
    "        'G': []\n",
    "    }\n",
    "class Astar:\n",
    "\n",
    "    def h(self, n):\n",
    "        heuristicSLD = {\n",
    "\n",
    "            'S':6,\n",
    "            'A':0,\n",
    "            'B':6,\n",
    "            'C':4,\n",
    "            'D':1,\n",
    "            'E':10,\n",
    "            'G':0\n",
    "\n",
    "        }\n",
    "        return heuristicSLD[n]\n",
    "\n",
    "    def __init__(self, adjac_lis):\n",
    "\n",
    "        self.adjac_lis = adjac_lis\n",
    "\n",
    "    def get_neighbors(self, i):\n",
    "\n",
    "        return self.adjac_lis[i]\n",
    "    \n",
    "\n",
    "    def a_star(self, start, stop):\n",
    "        open_lst = set(start)\n",
    "        closed_lst = set([])\n",
    "        dist = {}\n",
    "        dist[start] = 0\n",
    "        par = {}\n",
    "        par[start] = start\n",
    "\n",
    "        while len(open_lst) > 0:\n",
    "            n = None\n",
    "\n",
    "            for i in open_lst:\n",
    "                if n == None or dist[i] + self.h(i) < dist[n] + self.h(n):\n",
    "                    n = i\n",
    "\n",
    "            if n == None:\n",
    "\n",
    "                print('Path does not exist!')\n",
    "\n",
    "                return None\n",
    "\n",
    "            if n == stop:\n",
    "\n",
    "                reconst_path = []\n",
    "\n",
    "                while par[n] != n:\n",
    "\n",
    "                    reconst_path.append(n)\n",
    "                    n = par[n]\n",
    "                reconst_path.append(start)\n",
    "                reconst_path.reverse()\n",
    "                print('Path found: ',format(reconst_path))\n",
    "                return reconst_path\n",
    "            \n",
    "\n",
    "            for (m, weight) in self.get_neighbors(n):\n",
    "\n",
    "                if m not in open_lst and m not in closed_lst:\n",
    "                    open_lst.add(m)\n",
    "                    par[m] = n\n",
    "                    dist[m] = dist[n] + weight\n",
    "\n",
    "                else:\n",
    "\n",
    "                    if dist[m] > dist[n] + weight:\n",
    "                        dist[m] = dist[n] + weight\n",
    "                        par[m] = n\n",
    "\n",
    "                        if m in closed_lst:\n",
    "                            closed_lst.remove(m)\n",
    "                            open_lst.add(m)\n",
    "\n",
    "            open_lst.remove(n)\n",
    "            closed_lst.add(n)\n",
    "\n",
    "        print('No path found')\n",
    "        return None\n",
    "\n",
    "graph1 = Astar(problem)\n",
    "graph1.a_star('S', 'G') # return S-> A -> C -> G\n",
    "\n"
   ]
  },
  {
   "cell_type": "code",
   "execution_count": 15,
   "id": "c3ff5411",
   "metadata": {},
   "outputs": [
    {
     "data": {
      "text/html": [
       "<img src=\"Astar.png\"/>"
      ],
      "text/plain": [
       "<IPython.core.display.Image object>"
      ]
     },
     "execution_count": 15,
     "metadata": {},
     "output_type": "execute_result"
    }
   ],
   "source": [
    "from IPython.display import Image\n",
    "from IPython.core.display import HTML \n",
    "Image(url= \"Astar.png\")"
   ]
  }
 ],
 "metadata": {
  "kernelspec": {
   "display_name": "Python 3",
   "language": "python",
   "name": "python3"
  },
  "language_info": {
   "codemirror_mode": {
    "name": "ipython",
    "version": 3
   },
   "file_extension": ".py",
   "mimetype": "text/x-python",
   "name": "python",
   "nbconvert_exporter": "python",
   "pygments_lexer": "ipython3",
   "version": "3.8.8"
  }
 },
 "nbformat": 4,
 "nbformat_minor": 5
}
