{
 "cells": [
  {
   "cell_type": "code",
   "execution_count": 3,
   "id": "b69c4111",
   "metadata": {},
   "outputs": [
    {
     "name": "stdout",
     "output_type": "stream",
     "text": [
      "Breadth-First Search Path Secquence:\n",
      "['S', 'A', 'C', 'G']\n",
      "Path-Cost:\n",
      "8\n"
     ]
    }
   ],
   "source": [
    "\n",
    "import queue\n",
    "\n",
    "graph = {  \n",
    "\n",
    "    'S': {'A': 2, 'B': 2, },\n",
    "\n",
    "    'A': {'C': 2, 'D': 3},\n",
    "\n",
    "    'B': {'D': 4, 'E': 4},\n",
    "\n",
    "    'C': {'G': 4},\n",
    "\n",
    "    'D': {'G': 4},\n",
    "\n",
    "    'E': {},\n",
    "\n",
    "    'G': {}\n",
    "\n",
    "}\n",
    "\n",
    "\n",
    "\n",
    "def breadthFast(startNode, destNode):\n",
    "    visited = {}  # to store explored nodes\n",
    "    distance = {}\n",
    "    parent = {}  # to store path\n",
    "\n",
    "    exlpored = []\n",
    "    frontier = queue.Queue()\n",
    "\n",
    "    for node in graph.keys():\n",
    "        visited[node] = False\n",
    "        parent[node] = None\n",
    "        distance[node] = -1\n",
    "\n",
    "    startPoint = startNode\n",
    "    visited[startNode] = True\n",
    "    distance[startNode] = 0\n",
    "    frontier.put(startNode)\n",
    "    found = False\n",
    "\n",
    "    while not frontier.empty():\n",
    "        u = frontier.get()\n",
    "        exlpored.append(u)\n",
    "\n",
    "        for v in graph[u].keys():\n",
    "            if not visited[v]:\n",
    "                visited[v] = True\n",
    "                parent[v] = u\n",
    "                distance[v] = distance[u] + graph[u][v]\n",
    "                frontier.put(v)\n",
    "                if v == destNode:\n",
    "                    found = True\n",
    "                    break\n",
    "\n",
    "        if found: break\n",
    "\n",
    "    g = destNode\n",
    "    path = []\n",
    "    while g is not None:\n",
    "        path.append(g)\n",
    "        g = parent[g]\n",
    "\n",
    "    path.reverse()\n",
    "    print(\"Breadth-First Search Path Secquence:\")\n",
    "    print(path)\n",
    "    print(\"Path-Cost:\")\n",
    "    print(distance[destNode])\n",
    "\n",
    "\n",
    "breadthFast('S', 'G')"
   ]
  },
  {
   "cell_type": "code",
   "execution_count": null,
   "id": "44d32756",
   "metadata": {},
   "outputs": [],
   "source": []
  },
  {
   "cell_type": "code",
   "execution_count": null,
   "id": "edb825cf",
   "metadata": {},
   "outputs": [],
   "source": []
  }
 ],
 "metadata": {
  "kernelspec": {
   "display_name": "Python 3",
   "language": "python",
   "name": "python3"
  },
  "language_info": {
   "codemirror_mode": {
    "name": "ipython",
    "version": 3
   },
   "file_extension": ".py",
   "mimetype": "text/x-python",
   "name": "python",
   "nbconvert_exporter": "python",
   "pygments_lexer": "ipython3",
   "version": "3.8.8"
  }
 },
 "nbformat": 4,
 "nbformat_minor": 5
}
